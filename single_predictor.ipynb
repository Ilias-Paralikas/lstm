{
 "cells": [
  {
   "cell_type": "code",
   "execution_count": 1,
   "metadata": {
    "tags": []
   },
   "outputs": [],
   "source": [
    "import pandas  as pd\n",
    "import torch\n",
    "import torch.nn as nn\n",
    "from torch.utils.data import Dataset,DataLoader\n",
    "import torch.optim as optim\n",
    "import matplotlib.pyplot as plt\n"
   ]
  },
  {
   "cell_type": "code",
   "execution_count": 2,
   "metadata": {
    "tags": []
   },
   "outputs": [
    {
     "name": "stdout",
     "output_type": "stream",
     "text": [
      "cpu\n"
     ]
    }
   ],
   "source": [
    "BATCH_SIZE = 64\n",
    "FILL_NAN= 10\n",
    "TIME_STEP =30\n",
    "COLUMN = 'cpu_consumption'\n",
    "EPOCHS = 10\n",
    "lr  = 0.002 \n",
    "HIDDEN_LAYER_SIZE = 3\n",
    "NUM_LAYERS=2\n",
    "device = torch.device(\"cuda\" if torch.cuda.is_available() else \"cpu\")\n",
    "print(device)\n"
   ]
  },
  {
   "cell_type": "code",
   "execution_count": 3,
   "metadata": {},
   "outputs": [
    {
     "data": {
      "text/html": [
       "<div>\n",
       "<style scoped>\n",
       "    .dataframe tbody tr th:only-of-type {\n",
       "        vertical-align: middle;\n",
       "    }\n",
       "\n",
       "    .dataframe tbody tr th {\n",
       "        vertical-align: top;\n",
       "    }\n",
       "\n",
       "    .dataframe thead th {\n",
       "        text-align: right;\n",
       "    }\n",
       "</style>\n",
       "<table border=\"1\" class=\"dataframe\">\n",
       "  <thead>\n",
       "    <tr style=\"text-align: right;\">\n",
       "      <th></th>\n",
       "      <th>time</th>\n",
       "      <th>cpu_consumption</th>\n",
       "      <th>memory_consumption</th>\n",
       "      <th>energy_consumption</th>\n",
       "      <th>try</th>\n",
       "    </tr>\n",
       "  </thead>\n",
       "  <tbody>\n",
       "    <tr>\n",
       "      <th>0</th>\n",
       "      <td>1.715680e+12</td>\n",
       "      <td>0.000000</td>\n",
       "      <td>220.467200</td>\n",
       "      <td>0.000000</td>\n",
       "      <td>1</td>\n",
       "    </tr>\n",
       "    <tr>\n",
       "      <th>1</th>\n",
       "      <td>1.715680e+12</td>\n",
       "      <td>5.559126</td>\n",
       "      <td>744.431616</td>\n",
       "      <td>3.969113</td>\n",
       "      <td>1</td>\n",
       "    </tr>\n",
       "    <tr>\n",
       "      <th>2</th>\n",
       "      <td>1.715680e+12</td>\n",
       "      <td>26.391754</td>\n",
       "      <td>852.066304</td>\n",
       "      <td>21.660497</td>\n",
       "      <td>1</td>\n",
       "    </tr>\n",
       "    <tr>\n",
       "      <th>3</th>\n",
       "      <td>1.715680e+12</td>\n",
       "      <td>34.193836</td>\n",
       "      <td>861.986816</td>\n",
       "      <td>24.031333</td>\n",
       "      <td>1</td>\n",
       "    </tr>\n",
       "    <tr>\n",
       "      <th>4</th>\n",
       "      <td>1.715680e+12</td>\n",
       "      <td>31.761820</td>\n",
       "      <td>829.640704</td>\n",
       "      <td>21.330805</td>\n",
       "      <td>1</td>\n",
       "    </tr>\n",
       "  </tbody>\n",
       "</table>\n",
       "</div>"
      ],
      "text/plain": [
       "           time  cpu_consumption  memory_consumption  energy_consumption  try\n",
       "0  1.715680e+12         0.000000          220.467200            0.000000    1\n",
       "1  1.715680e+12         5.559126          744.431616            3.969113    1\n",
       "2  1.715680e+12        26.391754          852.066304           21.660497    1\n",
       "3  1.715680e+12        34.193836          861.986816           24.031333    1\n",
       "4  1.715680e+12        31.761820          829.640704           21.330805    1"
      ]
     },
     "execution_count": 3,
     "metadata": {},
     "output_type": "execute_result"
    }
   ],
   "source": [
    "csv_file=  'results_cpu_memory_eco-efficiency.csv'\n",
    "df = pd.read_csv(csv_file)\n",
    "df.head()\n"
   ]
  },
  {
   "cell_type": "code",
   "execution_count": 4,
   "metadata": {},
   "outputs": [],
   "source": [
    "def count_nan(df):\n",
    "    nan_values = df.isna()\n",
    "    nan_counts = df.isna().sum()\n",
    "    return nan_counts"
   ]
  },
  {
   "cell_type": "code",
   "execution_count": 5,
   "metadata": {},
   "outputs": [
    {
     "data": {
      "text/plain": [
       "time                   0\n",
       "cpu_consumption        0\n",
       "memory_consumption     0\n",
       "energy_consumption    14\n",
       "try                    0\n",
       "dtype: int64"
      ]
     },
     "execution_count": 5,
     "metadata": {},
     "output_type": "execute_result"
    }
   ],
   "source": [
    "count_nan(df)"
   ]
  },
  {
   "cell_type": "code",
   "execution_count": 6,
   "metadata": {},
   "outputs": [],
   "source": [
    "df_ffill = df.ffill(limit=FILL_NAN)\n",
    "df_bfill = df.bfill(limit=FILL_NAN)\n",
    "df = (df_ffill + df_bfill) / 2"
   ]
  },
  {
   "cell_type": "code",
   "execution_count": 7,
   "metadata": {},
   "outputs": [
    {
     "data": {
      "text/plain": [
       "time                  0\n",
       "cpu_consumption       0\n",
       "memory_consumption    0\n",
       "energy_consumption    0\n",
       "try                   0\n",
       "dtype: int64"
      ]
     },
     "execution_count": 7,
     "metadata": {},
     "output_type": "execute_result"
    }
   ],
   "source": [
    "count_nan(df)"
   ]
  },
  {
   "cell_type": "code",
   "execution_count": 8,
   "metadata": {
    "tags": []
   },
   "outputs": [],
   "source": [
    "from sklearn.preprocessing import StandardScaler\n",
    "\n",
    "# Initialize a new StandardScaler instance\n",
    "scaler = StandardScaler()\n",
    "\n",
    "# Fit and transform the DataFrame\n",
    "df  = pd.DataFrame(scaler.fit_transform(df), columns=df.columns)"
   ]
  },
  {
   "cell_type": "code",
   "execution_count": 9,
   "metadata": {},
   "outputs": [
    {
     "data": {
      "text/plain": [
       "<Axes: >"
      ]
     },
     "execution_count": 9,
     "metadata": {},
     "output_type": "execute_result"
    },
    {
     "data": {
      "image/png": "[encoded data removed]",
      "text/plain": [
       "<Figure size 640x480 with 1 Axes>"
      ]
     },
     "metadata": {},
     "output_type": "display_data"
    }
   ],
   "source": [
    "df[COLUMN].plot()"
   ]
  },
  {
   "cell_type": "code",
   "execution_count": 10,
   "metadata": {},
   "outputs": [],
   "source": [
    "def train_test_split(df,split=0.8):\n",
    "    train_split = int(len(df)*split)\n",
    "    test_split=  len(df) -train_split\n",
    "    return train_split,test_split"
   ]
  },
  {
   "cell_type": "code",
   "execution_count": 11,
   "metadata": {},
   "outputs": [],
   "source": [
    "class LoadPredictionDataset(Dataset):\n",
    "    def __init__(self,df,\n",
    "                 start_index,\n",
    "                 population,                 \n",
    "                 time_step=TIME_STEP,\n",
    "                 column=COLUMN,\n",
    "                 device=device):\n",
    "        previous_overflow=  max(start_index-time_step,0)\n",
    "        df = df[column]\n",
    "        self.df = df.iloc[previous_overflow:start_index+population]\n",
    "        self.column = column\n",
    "        self.time_step = time_step\n",
    "        self.device = device\n",
    "        self.length = len(self.df)-self.time_step -1\n",
    "        \n",
    "    def __getitem__(self, index):\n",
    "        previous_values = self.df.iloc[index:index+self.time_step].values\n",
    "        previous_values = torch.tensor(previous_values).unsqueeze(0)\n",
    "        previous_values = previous_values.float().to(self.device)\n",
    "        target_values = self.df.iloc[index+self.time_step]\n",
    "        target_values = torch.tensor(target_values).float().to(self.device)\n",
    "        target_values = target_values.unsqueeze(0)\n",
    "        return previous_values, target_values\n",
    "    \n",
    "    def __len__(self):\n",
    "        return self.length\n",
    "        \n"
   ]
  },
  {
   "cell_type": "code",
   "execution_count": 12,
   "metadata": {},
   "outputs": [],
   "source": [
    "train_split,test_split = train_test_split(df)"
   ]
  },
  {
   "cell_type": "code",
   "execution_count": 13,
   "metadata": {},
   "outputs": [],
   "source": [
    "train_dataset = LoadPredictionDataset(df,start_index=0,population=train_split,device=device)\n",
    "test_dataset  = LoadPredictionDataset(df,start_index=train_split,population=test_split,device=device)\n",
    "\n",
    "train_dataloader = DataLoader(train_dataset, batch_size=BATCH_SIZE, shuffle=True)\n",
    "test_dataloader = DataLoader(test_dataset, batch_size=BATCH_SIZE, shuffle=False)\n"
   ]
  },
  {
   "cell_type": "code",
   "execution_count": 14,
   "metadata": {},
   "outputs": [
    {
     "name": "stdout",
     "output_type": "stream",
     "text": [
      "torch.Size([64, 1, 30]) torch.Size([64, 1])\n"
     ]
    }
   ],
   "source": [
    "x=  next(iter(train_dataloader))\n",
    "print(x[0].shape,x[1].shape)"
   ]
  },
  {
   "cell_type": "code",
   "execution_count": 15,
   "metadata": {},
   "outputs": [],
   "source": [
    "\n",
    "class LSTMModel(nn.Module):\n",
    "    def __init__(self, input_size=TIME_STEP, hidden_layer_size=HIDDEN_LAYER_SIZE,num_layers =NUM_LAYERS, output_size=1):\n",
    "        super().__init__()\n",
    "        self.hidden_layer_size = hidden_layer_size\n",
    "\n",
    "        self.lstm = nn.LSTM(input_size, hidden_layer_size,num_layers , batch_first=True)\n",
    "        self.linear = nn.Linear(hidden_layer_size, output_size)\n",
    "\n",
    "\n",
    "\n",
    "    def forward(self, input_seq):\n",
    "        lstm_out, _ = self.lstm(input_seq)\n",
    "        predictions = self.linear(lstm_out[:, -1, :])\n",
    "     \n",
    "        return predictions\n",
    "\n"
   ]
  },
  {
   "cell_type": "code",
   "execution_count": 16,
   "metadata": {
    "tags": []
   },
   "outputs": [
    {
     "data": {
      "text/plain": [
       "torch.Size([64, 1])"
      ]
     },
     "execution_count": 16,
     "metadata": {},
     "output_type": "execute_result"
    }
   ],
   "source": [
    "model = LSTMModel().to(device)\n",
    "model(x[0]).shape"
   ]
  },
  {
   "cell_type": "code",
   "execution_count": 17,
   "metadata": {},
   "outputs": [],
   "source": [
    "def plot_results(model,dataset=test_dataset,dataloader=test_dataloader,column=COLUMN,device=device):\n",
    "    results = torch.zeros(TIME_STEP,1).to(device)\n",
    "\n",
    "    for data,_ in dataloader:\n",
    "        res  = model(data)\n",
    "        results = torch.cat((results,res),dim=0)\n",
    "    plt.plot(results.detach().cpu(),color='r',label='Predicted')\n",
    "    plt.plot(dataset.df.values,color='b',label='Real')\n",
    "    plt.legend()\n",
    "    \n",
    "    plt.tight_layout()\n",
    "    plt.show()"
   ]
  },
  {
   "cell_type": "code",
   "execution_count": 18,
   "metadata": {},
   "outputs": [],
   "source": [
    "# Assuming you have defined your model and train_dataloader\n",
    "model = LSTMModel().to(device)\n"
   ]
  },
  {
   "cell_type": "code",
   "execution_count": 19,
   "metadata": {},
   "outputs": [],
   "source": [
    "def train(model,train_dataloader=train_dataloader,device=device,criterion=None,optimizer=None):\n",
    "    if criterion is None:\n",
    "        criterion = nn.MSELoss()  # or any other loss function based on your task\n",
    "    if optimizer is None:\n",
    "        optimizer = optim.Adam(model.parameters(), lr=lr)  # or any other optimizer\n",
    "\n",
    "    \n",
    "    losses = []\n",
    "    # Training loop\n",
    "    for epoch in range(EPOCHS):  # number of epochs\n",
    "        accumulative_loss = 0\n",
    "        for i, data in enumerate(train_dataloader, 0):\n",
    "            # get the inputs; data is a list of [inputs, labels]\n",
    "            inputs, labels = data\n",
    "\n",
    "            # zero the parameter gradients\n",
    "            optimizer.zero_grad()\n",
    "\n",
    "            # forward + backward + optimize\n",
    "            outputs = model(inputs)\n",
    "            loss = criterion(outputs, labels)\n",
    "            loss.backward()\n",
    "            optimizer.step()\n",
    "            accumulative_loss += loss.item()\n",
    "        losses.append(accumulative_loss)\n",
    "        if epoch %10 ==0:\n",
    "            print(f\"Epoch {epoch}, loss: {accumulative_loss / len(train_dataloader)}\")\n",
    "\n",
    "\n",
    "    print('Finished Training')\n",
    "    plt.plot(losses)"
   ]
  },
  {
   "cell_type": "code",
   "execution_count": null,
   "metadata": {
    "tags": []
   },
   "outputs": [
    {
     "name": "stdout",
     "output_type": "stream",
     "text": [
      "Epoch 0, loss: 0.7675193315371871\n",
      "Epoch 10, loss: 0.7280240028630942\n",
      "Epoch 20, loss: 0.6372733903117478\n",
      "Epoch 30, loss: 0.5734121659770608\n",
      "Epoch 40, loss: 0.5018939352594316\n",
      "Epoch 50, loss: 0.4139083568006754\n",
      "Epoch 60, loss: 0.34034782857634127\n",
      "Epoch 70, loss: 0.2809305740520358\n",
      "Epoch 80, loss: 0.22531016264110804\n",
      "Epoch 90, loss: 0.19312861247453839\n",
      "Epoch 100, loss: 0.1651620725169778\n",
      "Epoch 110, loss: 0.1449829962803051\n",
      "Epoch 120, loss: 0.13040266290772706\n",
      "Epoch 130, loss: 0.11895275418646634\n",
      "Epoch 140, loss: 0.11020413902588189\n",
      "Epoch 150, loss: 0.1014921865426004\n",
      "Epoch 160, loss: 0.0955152401002124\n",
      "Epoch 170, loss: 0.08987373695708811\n",
      "Epoch 180, loss: 0.08496406709309667\n",
      "Epoch 190, loss: 0.08047858183272183\n",
      "Epoch 200, loss: 0.07745556475128978\n",
      "Epoch 210, loss: 0.07384660723619163\n",
      "Epoch 220, loss: 0.07101572793908417\n",
      "Epoch 230, loss: 0.06784508586861193\n",
      "Epoch 240, loss: 0.06672842311672866\n",
      "Epoch 250, loss: 0.06470040266867727\n",
      "Epoch 260, loss: 0.06276104948483407\n",
      "Epoch 270, loss: 0.061465243459679186\n",
      "Epoch 280, loss: 0.060265625827014446\n",
      "Epoch 290, loss: 0.05841564014554024\n",
      "Epoch 300, loss: 0.05766052950639278\n",
      "Epoch 310, loss: 0.055949935456737876\n",
      "Epoch 320, loss: 0.055395017785485834\n",
      "Epoch 330, loss: 0.05535281001357362\n",
      "Epoch 340, loss: 0.05521611182484776\n",
      "Epoch 350, loss: 0.05310424615163356\n",
      "Epoch 360, loss: 0.05278111185180023\n",
      "Epoch 370, loss: 0.05123279627878219\n",
      "Epoch 380, loss: 0.050184589927084744\n",
      "Epoch 390, loss: 0.049827426264528185\n",
      "Epoch 400, loss: 0.04987972101662308\n",
      "Epoch 410, loss: 0.04939793422818184\n",
      "Epoch 420, loss: 0.04888014937750995\n",
      "Epoch 430, loss: 0.047309364774264395\n",
      "Epoch 440, loss: 0.047354795155115426\n",
      "Epoch 450, loss: 0.045915355207398534\n",
      "Epoch 460, loss: 0.04593344242312014\n",
      "Epoch 470, loss: 0.04527227010112256\n"
     ]
    }
   ],
   "source": [
    "train(model)"
   ]
  },
  {
   "cell_type": "code",
   "execution_count": null,
   "metadata": {
    "tags": []
   },
   "outputs": [],
   "source": [
    "plot_results(model)"
   ]
  },
  {
   "cell_type": "code",
   "execution_count": null,
   "metadata": {
    "tags": []
   },
   "outputs": [],
   "source": [
    "plot_results(model,test_dataset,test_dataloader,device=device)"
   ]
  }
 ],
 "metadata": {
  "kernelspec": {
   "display_name": "default:Python",
   "language": "python",
   "name": "conda-env-default-py"
  },
  "language_info": {
   "codemirror_mode": {
    "name": "ipython",
    "version": 3
   },
   "file_extension": ".py",
   "mimetype": "text/x-python",
   "name": "python",
   "nbconvert_exporter": "python",
   "pygments_lexer": "ipython3",
   "version": "3.9.16"
  }
 },
 "nbformat": 4,
 "nbformat_minor": 4
}
